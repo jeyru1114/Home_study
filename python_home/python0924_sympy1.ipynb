{
 "cells": [
  {
   "cell_type": "code",
   "execution_count": 1,
   "id": "df2b9685",
   "metadata": {},
   "outputs": [],
   "source": [
    "import numpy as np\n",
    "from sympy import *"
   ]
  },
  {
   "cell_type": "code",
   "execution_count": 2,
   "id": "3d5704ff",
   "metadata": {},
   "outputs": [],
   "source": [
    "def f(a):\n",
    "    str1 = str(a)+'*x**2+2*x+7'\n",
    "    return str1"
   ]
  },
  {
   "cell_type": "code",
   "execution_count": 7,
   "id": "f9cc435c",
   "metadata": {},
   "outputs": [
    {
     "data": {
      "text/plain": [
       "[2, 2*x + 2, 4*x + 2]"
      ]
     },
     "execution_count": 7,
     "metadata": {},
     "output_type": "execute_result"
    }
   ],
   "source": [
    "[diff(f(i)) for i in range(20)][:3] # diff 미분"
   ]
  },
  {
   "cell_type": "code",
   "execution_count": 4,
   "id": "cda3af8a",
   "metadata": {
    "scrolled": true
   },
   "outputs": [
    {
     "data": {
      "text/plain": [
       "[[-7/2],\n",
       " [-1 - sqrt(6)*I, -1 + sqrt(6)*I],\n",
       " [-1/2 - sqrt(13)*I/2, -1/2 + sqrt(13)*I/2]]"
      ]
     },
     "execution_count": 4,
     "metadata": {},
     "output_type": "execute_result"
    }
   ],
   "source": [
    "[solve(f(i)) for i in range(20)][:3] # solve 해 "
   ]
  },
  {
   "cell_type": "code",
   "execution_count": 5,
   "id": "72331da2",
   "metadata": {},
   "outputs": [],
   "source": [
    "def solve_root_fn(a,b,c):\n",
    "    test = b**2-4*a*c\n",
    "    if test<0: return\n",
    "    return np.array([-b-np.sqrt(test), -b+np.sqrt(test)])/(2*a)"
   ]
  }
 ],
 "metadata": {
  "kernelspec": {
   "display_name": "Python 3 (ipykernel)",
   "language": "python",
   "name": "python3"
  },
  "language_info": {
   "codemirror_mode": {
    "name": "ipython",
    "version": 3
   },
   "file_extension": ".py",
   "mimetype": "text/x-python",
   "name": "python",
   "nbconvert_exporter": "python",
   "pygments_lexer": "ipython3",
   "version": "3.11.4"
  }
 },
 "nbformat": 4,
 "nbformat_minor": 5
}
