{
 "cells": [
  {
   "cell_type": "markdown",
   "id": "7850c73f",
   "metadata": {},
   "source": [
    "$$ \\lim_{n \\rightarrow \\infty} \\sum_{k=1}^{n-1}(f(a+ k \\frac{b-a}{n})) \\frac{b-a}{n}  $$ "
   ]
  },
  {
   "cell_type": "markdown",
   "id": "b02cfa16",
   "metadata": {},
   "source": [
    "$$ \\Delta x = \\frac{b-a}{n}  $$ \n",
    "$$  dx =  \\lim_{n \\rightarrow \\infty} \\frac{b-a}{n}  $$ "
   ]
  },
  {
   "cell_type": "code",
   "execution_count": 2,
   "id": "9d2c200b",
   "metadata": {},
   "outputs": [],
   "source": [
    "import numpy as np"
   ]
  },
  {
   "cell_type": "code",
   "execution_count": 3,
   "id": "7855cab3",
   "metadata": {},
   "outputs": [],
   "source": [
    "#위에 마크다운 수식을 코드로 작성\n",
    "def limit_of_sum(f, a, b, n): #첫번째(함수)  두번째,세번째(구간),  네번째(몇개로 분할)\n",
    "    delta_x = (b - a) / n\n",
    "    result = 0.0\n",
    "\n",
    "    for k in range(1, n):\n",
    "        x_k = a + k * delta_x  #x_k ,k번째 datq\n",
    "        result += f(x_k) #함수값을 누적한후  \n",
    "\n",
    "    result *= delta_x #누적된 함수 값에 delta_x(직사각형의 밑변) 을 곱한 후 결과 반환\n",
    "    return result"
   ]
  },
  {
   "cell_type": "code",
   "execution_count": 17,
   "id": "d6090ce2",
   "metadata": {},
   "outputs": [],
   "source": [
    "def f(x):\n",
    "    # Define your function f(x) here\n",
    "    return x**2  # Replace this with your actual function"
   ]
  },
  {
   "cell_type": "code",
   "execution_count": 18,
   "id": "f9cd5182",
   "metadata": {},
   "outputs": [
    {
     "data": {
      "text/plain": [
       "8.656668000000002"
      ]
     },
     "execution_count": 18,
     "metadata": {},
     "output_type": "execute_result"
    }
   ],
   "source": [
    "# 극한 계산 \n",
    "a = 1  # 좌극한\n",
    "b = 3  # 우극한\n",
    "n = 1000  # Number of intervals (you can increase this for better accuracy)\n",
    "result = limit_of_sum(f, a, b, n)\n",
    "result"
   ]
  },
  {
   "cell_type": "code",
   "execution_count": 19,
   "id": "a30a38d1",
   "metadata": {},
   "outputs": [
    {
     "data": {
      "text/latex": [
       "$\\displaystyle \\text{True}$"
      ],
      "text/plain": [
       "True"
      ]
     },
     "execution_count": 19,
     "metadata": {},
     "output_type": "execute_result"
    }
   ],
   "source": [
    "# SymPy의 integrate()함수\n",
    "import sympy as sp\n",
    "\n",
    "x = sp.Symbol('x')\n",
    "# f = sp.integrate(sp.cos(x),x) # 부정적분\n",
    "f_result = sp.integrate(f(x),(x,1,3)) # cos(x)함수를 0 ~ pi/2 범위\n",
    "abs(f_result - result) < 0.01"
   ]
  },
  {
   "cell_type": "code",
   "execution_count": 20,
   "id": "f3462b24",
   "metadata": {},
   "outputs": [
    {
     "data": {
      "text/latex": [
       "$\\displaystyle \\frac{26}{3}$"
      ],
      "text/plain": [
       "26/3"
      ]
     },
     "execution_count": 20,
     "metadata": {},
     "output_type": "execute_result"
    }
   ],
   "source": [
    "f_result"
   ]
  },
  {
   "cell_type": "code",
   "execution_count": 21,
   "id": "a18c5486",
   "metadata": {
    "scrolled": true
   },
   "outputs": [
    {
     "data": {
      "text/plain": [
       "8.666666666666666"
      ]
     },
     "execution_count": 21,
     "metadata": {},
     "output_type": "execute_result"
    }
   ],
   "source": [
    "26/3"
   ]
  },
  {
   "cell_type": "code",
   "execution_count": 15,
   "id": "5bb5c5d9",
   "metadata": {},
   "outputs": [
    {
     "name": "stdout",
     "output_type": "stream",
     "text": [
      "1 0 -1 0\n"
     ]
    }
   ],
   "source": [
    "# SymPy의 integrate()함수\n",
    "import sympy as sp\n",
    "\n",
    "x = sp.Symbol('x')\n",
    "# f = sp.integrate(sp.cos(x),x) # 부정적분\n",
    "f0 = sp.integrate(sp.cos(x),(x,0,sp.pi/2)) # cos(x)함수를 0 ~ pi/2 범위\n",
    "f1 = sp.integrate(sp.cos(x),(x,0,sp.pi)) # cos(x)함수를 0 ~ pi 범위\n",
    "f2 = sp.integrate(sp.cos(x),(x,0,3*sp.pi/2)) # cos(x)함수를 0 ~ 3*pi/2 범위\n",
    "f3 = sp.integrate(sp.cos(x),(x,0,2*sp.pi)) # cos(x)함수를 0 ~ 2*pi 범위\n",
    "print(f0, f1, f2, f3)"
   ]
  }
 ],
 "metadata": {
  "kernelspec": {
   "display_name": "Python 3 (ipykernel)",
   "language": "python",
   "name": "python3"
  },
  "language_info": {
   "codemirror_mode": {
    "name": "ipython",
    "version": 3
   },
   "file_extension": ".py",
   "mimetype": "text/x-python",
   "name": "python",
   "nbconvert_exporter": "python",
   "pygments_lexer": "ipython3",
   "version": "3.11.4"
  }
 },
 "nbformat": 4,
 "nbformat_minor": 5
}
